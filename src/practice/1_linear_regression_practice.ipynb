{
 "cells": [
  {
   "cell_type": "code",
   "execution_count": 1,
   "metadata": {},
   "outputs": [],
   "source": [
    "from matplotlib import pyplot as plt"
   ]
  },
  {
   "cell_type": "code",
   "execution_count": 2,
   "metadata": {},
   "outputs": [],
   "source": [
    "import numpy as np"
   ]
  },
  {
   "cell_type": "code",
   "execution_count": 3,
   "metadata": {},
   "outputs": [],
   "source": [
    "A1 = np.array([[8],\n",
    "              [9],\n",
    "              [0],\n",
    "              [1],\n",
    "              [20],\n",
    "              [25],\n",
    "              [11],\n",
    "              [1]\n",
    "             ])\n",
    "Y1 = np.array([[1],\n",
    "              [22],\n",
    "              [0.5],\n",
    "              [1],\n",
    "              [0],\n",
    "              [5],\n",
    "              [1],\n",
    "              [10]\n",
    "             ])"
   ]
  },
  {
   "cell_type": "code",
   "execution_count": 4,
   "metadata": {},
   "outputs": [],
   "source": [
    "ones = np.ones((8, 1))"
   ]
  },
  {
   "cell_type": "code",
   "execution_count": 5,
   "metadata": {},
   "outputs": [
    {
     "data": {
      "text/plain": [
       "array([[ 8.,  1.],\n",
       "       [ 9.,  1.],\n",
       "       [ 0.,  1.],\n",
       "       [ 1.,  1.],\n",
       "       [20.,  1.],\n",
       "       [25.,  1.],\n",
       "       [11.,  1.],\n",
       "       [ 1.,  1.]])"
      ]
     },
     "execution_count": 5,
     "metadata": {},
     "output_type": "execute_result"
    }
   ],
   "source": [
    "A1_o = np.hstack((A1, ones))\n",
    "A1_o"
   ]
  },
  {
   "cell_type": "code",
   "execution_count": 6,
   "metadata": {},
   "outputs": [
    {
     "data": {
      "text/plain": [
       "array([[-0.04524264],\n",
       "       [ 5.48664971]])"
      ]
     },
     "execution_count": 6,
     "metadata": {},
     "output_type": "execute_result"
    }
   ],
   "source": [
    "X1 = np.linalg.inv(A1_o.T.dot(A1_o)).dot(A1_o.T).dot(Y1)\n",
    "X1"
   ]
  },
  {
   "cell_type": "code",
   "execution_count": 7,
   "metadata": {},
   "outputs": [
    {
     "data": {
      "text/plain": [
       "<matplotlib.collections.PathCollection at 0x7f0c76a64fd0>"
      ]
     },
     "execution_count": 7,
     "metadata": {},
     "output_type": "execute_result"
    },
    {
     "data": {
      "image/png": "[encoded data removed]",
      "text/plain": [
       "<Figure size 432x288 with 1 Axes>"
      ]
     },
     "metadata": {
      "needs_background": "light"
     },
     "output_type": "display_data"
    }
   ],
   "source": [
    "xx = np.linspace(-5, 30, 10)\n",
    "plt.plot(xx, xx * X1[0][0] + X1[1][0], \"red\")\n",
    "plt.grid()\n",
    "plt.scatter(A1, Y1)"
   ]
  },
  {
   "cell_type": "code",
   "execution_count": 9,
   "metadata": {},
   "outputs": [
    {
     "data": {
      "text/plain": [
       "array([[5.12470862],\n",
       "       [5.07946599],\n",
       "       [5.48664971],\n",
       "       [5.44140708],\n",
       "       [4.58179699],\n",
       "       [4.35558381],\n",
       "       [4.98898072],\n",
       "       [5.44140708]])"
      ]
     },
     "execution_count": 9,
     "metadata": {},
     "output_type": "execute_result"
    }
   ],
   "source": [
    "Y1_hat = A1_o.dot(X1)\n",
    "Y1_hat"
   ]
  },
  {
   "cell_type": "code",
   "execution_count": 10,
   "metadata": {},
   "outputs": [
    {
     "data": {
      "text/plain": [
       "50.751417143462604"
      ]
     },
     "execution_count": 10,
     "metadata": {},
     "output_type": "execute_result"
    }
   ],
   "source": [
    "mse1 = ((Y1_hat - Y1) ** 2).sum() / 8\n",
    "mse1"
   ]
  },
  {
   "cell_type": "code",
   "execution_count": 12,
   "metadata": {},
   "outputs": [
    {
     "data": {
      "text/plain": [
       "50.90234375"
      ]
     },
     "execution_count": 12,
     "metadata": {},
     "output_type": "execute_result"
    }
   ],
   "source": [
    "vae1 = ((Y1 - Y1.mean()) ** 2).sum() / 8\n",
    "vae1"
   ]
  },
  {
   "cell_type": "code",
   "execution_count": 13,
   "metadata": {},
   "outputs": [
    {
     "data": {
      "text/plain": [
       "0.0029650227360581427"
      ]
     },
     "execution_count": 13,
     "metadata": {},
     "output_type": "execute_result"
    }
   ],
   "source": [
    "r1 = 1 - mse1/vae1\n",
    "r1"
   ]
  },
  {
   "cell_type": "code",
   "execution_count": 14,
   "metadata": {},
   "outputs": [
    {
     "data": {
      "text/plain": [
       "array([[  8.,  64.,   1.],\n",
       "       [  9.,  81.,   1.],\n",
       "       [  0.,   0.,   1.],\n",
       "       [  1.,   1.,   1.],\n",
       "       [ 20., 400.,   1.],\n",
       "       [ 25., 625.,   1.],\n",
       "       [ 11., 121.,   1.],\n",
       "       [  1.,   1.,   1.]])"
      ]
     },
     "execution_count": 14,
     "metadata": {},
     "output_type": "execute_result"
    }
   ],
   "source": [
    "A2_o = np.hstack((A1, A1 ** 2, np.ones((8, 1))))\n",
    "A2_o"
   ]
  },
  {
   "cell_type": "code",
   "execution_count": 15,
   "metadata": {},
   "outputs": [
    {
     "data": {
      "text/plain": [
       "array([[ 0.57519876],\n",
       "       [-0.02599841],\n",
       "       [ 3.87200465]])"
      ]
     },
     "execution_count": 15,
     "metadata": {},
     "output_type": "execute_result"
    }
   ],
   "source": [
    "X2 = np.linalg.inv(A2_o.T.dot(A2_o)).dot(A2_o.T).dot(Y1)\n",
    "X2"
   ]
  },
  {
   "cell_type": "code",
   "execution_count": 17,
   "metadata": {},
   "outputs": [
    {
     "data": {
      "text/plain": [
       "[<matplotlib.lines.Line2D at 0x7f0c76292190>]"
      ]
     },
     "execution_count": 17,
     "metadata": {},
     "output_type": "execute_result"
    },
    {
     "data": {
      "image/png": "[encoded data removed]",
      "text/plain": [
       "<Figure size 432x288 with 1 Axes>"
      ]
     },
     "metadata": {
      "needs_background": "light"
     },
     "output_type": "display_data"
    }
   ],
   "source": [
    "xx = np.linspace(-5, 30, 10)\n",
    "plt.plot(xx, xx * X2[0][0] + (xx ** 2) * X2[1][0] + X2[2][0], \"r--\")\n",
    "plt.grid()\n",
    "plt.plot(A1, Y1, \"k*\")"
   ]
  },
  {
   "cell_type": "code",
   "execution_count": 18,
   "metadata": {},
   "outputs": [
    {
     "data": {
      "text/plain": [
       "array([[6.8096965 ],\n",
       "       [6.94292229],\n",
       "       [3.87200465],\n",
       "       [4.421205  ],\n",
       "       [4.97661582],\n",
       "       [2.00296734],\n",
       "       [7.05338341],\n",
       "       [4.421205  ]])"
      ]
     },
     "execution_count": 18,
     "metadata": {},
     "output_type": "execute_result"
    }
   ],
   "source": [
    "Y2_hat = A2_o.dot(X2)\n",
    "Y2_hat\n"
   ]
  },
  {
   "cell_type": "code",
   "execution_count": 19,
   "metadata": {},
   "outputs": [
    {
     "data": {
      "text/plain": [
       "48.132316968379975"
      ]
     },
     "execution_count": 19,
     "metadata": {},
     "output_type": "execute_result"
    }
   ],
   "source": [
    "mse2 = ((Y2_hat - Y1) ** 2).mean()\n",
    "mse2"
   ]
  },
  {
   "cell_type": "code",
   "execution_count": 20,
   "metadata": {},
   "outputs": [
    {
     "data": {
      "text/plain": [
       "50.90234375"
      ]
     },
     "execution_count": 20,
     "metadata": {},
     "output_type": "execute_result"
    }
   ],
   "source": [
    "vae2 = ((Y1 - Y1.mean()) ** 2).sum() / 8\n",
    "vae2"
   ]
  },
  {
   "cell_type": "code",
   "execution_count": 21,
   "metadata": {},
   "outputs": [
    {
     "data": {
      "text/plain": [
       "0.05441845262026912"
      ]
     },
     "execution_count": 21,
     "metadata": {},
     "output_type": "execute_result"
    }
   ],
   "source": [
    "r2 = 1 - mse2 / vae2\n",
    "r2"
   ]
  },
  {
   "cell_type": "code",
   "execution_count": 22,
   "metadata": {},
   "outputs": [
    {
     "data": {
      "text/plain": [
       "array([[8.0000e+00, 6.4000e+01, 5.1200e+02, 1.0000e+00],\n",
       "       [9.0000e+00, 8.1000e+01, 7.2900e+02, 1.0000e+00],\n",
       "       [0.0000e+00, 0.0000e+00, 0.0000e+00, 1.0000e+00],\n",
       "       [1.0000e+00, 1.0000e+00, 1.0000e+00, 1.0000e+00],\n",
       "       [2.0000e+01, 4.0000e+02, 8.0000e+03, 1.0000e+00],\n",
       "       [2.5000e+01, 6.2500e+02, 1.5625e+04, 1.0000e+00],\n",
       "       [1.1000e+01, 1.2100e+02, 1.3310e+03, 1.0000e+00],\n",
       "       [1.0000e+00, 1.0000e+00, 1.0000e+00, 1.0000e+00]])"
      ]
     },
     "execution_count": 22,
     "metadata": {},
     "output_type": "execute_result"
    }
   ],
   "source": [
    "A3_o = np.hstack((A1, A1 ** 2, A1**3, np.ones((8, 1))))\n",
    "A3_o"
   ]
  },
  {
   "cell_type": "code",
   "execution_count": 23,
   "metadata": {},
   "outputs": [
    {
     "data": {
      "text/plain": [
       "array([[ 3.03843274],\n",
       "       [-0.3299489 ],\n",
       "       [ 0.00855486],\n",
       "       [ 1.88910228]])"
      ]
     },
     "execution_count": 23,
     "metadata": {},
     "output_type": "execute_result"
    }
   ],
   "source": [
    "X3 = np.linalg.inv(A3_o.T.dot(A3_o)).dot(A3_o.T).dot(Y1)\n",
    "X3"
   ]
  },
  {
   "cell_type": "code",
   "execution_count": 26,
   "metadata": {},
   "outputs": [
    {
     "data": {
      "text/plain": [
       "[<matplotlib.lines.Line2D at 0x7f0c761a3730>]"
      ]
     },
     "execution_count": 26,
     "metadata": {},
     "output_type": "execute_result"
    },
    {
     "data": {
      "image/png": "[encoded data removed]",
      "text/plain": [
       "<Figure size 432x288 with 1 Axes>"
      ]
     },
     "metadata": {
      "needs_background": "light"
     },
     "output_type": "display_data"
    }
   ],
   "source": [
    "xx = np.linspace(-5, 30, 100)\n",
    "plt.plot(xx, xx * X3[0][0] + (xx ** 2) * X3[1][0] + (xx ** 3) * X3[2][0] + X3[3][0], \"r--\")\n",
    "plt.grid()\n",
    "plt.plot(A1, Y1, \"k*\")"
   ]
  },
  {
   "cell_type": "code",
   "execution_count": 27,
   "metadata": {},
   "outputs": [
    {
     "data": {
      "text/plain": [
       "array([[ 9.4599207 ],\n",
       "       [ 8.74562576],\n",
       "       [ 1.88910228],\n",
       "       [ 4.60614098],\n",
       "       [-0.88296052],\n",
       "       [ 5.30147164],\n",
       "       [ 6.77455818],\n",
       "       [ 4.60614098]])"
      ]
     },
     "execution_count": 27,
     "metadata": {},
     "output_type": "execute_result"
    }
   ],
   "source": [
    "Y3_hat = A3_o.dot(X3)\n",
    "Y3_hat\n"
   ]
  },
  {
   "cell_type": "code",
   "execution_count": 28,
   "metadata": {},
   "outputs": [
    {
     "data": {
      "text/plain": [
       "40.68653677372543"
      ]
     },
     "execution_count": 28,
     "metadata": {},
     "output_type": "execute_result"
    }
   ],
   "source": [
    "mse3 = ((Y3_hat - Y1) ** 2).mean()\n",
    "mse3"
   ]
  },
  {
   "cell_type": "code",
   "execution_count": 29,
   "metadata": {},
   "outputs": [
    {
     "data": {
      "text/plain": [
       "50.90234375"
      ]
     },
     "execution_count": 29,
     "metadata": {},
     "output_type": "execute_result"
    }
   ],
   "source": [
    "vae3 = ((Y1 - Y1.mean()) ** 2).sum() / 8\n",
    "vae3"
   ]
  },
  {
   "cell_type": "code",
   "execution_count": 30,
   "metadata": {},
   "outputs": [
    {
     "data": {
      "text/plain": [
       "0.20069423573987344"
      ]
     },
     "execution_count": 30,
     "metadata": {},
     "output_type": "execute_result"
    }
   ],
   "source": [
    "r3 = 1 - mse3 / vae3\n",
    "r3"
   ]
  },
  {
   "cell_type": "code",
   "execution_count": 31,
   "metadata": {},
   "outputs": [
    {
     "data": {
      "text/plain": [
       "array([[8.00000e+00, 6.40000e+01, 5.12000e+02, 4.09600e+03, 1.00000e+00],\n",
       "       [9.00000e+00, 8.10000e+01, 7.29000e+02, 6.56100e+03, 1.00000e+00],\n",
       "       [0.00000e+00, 0.00000e+00, 0.00000e+00, 0.00000e+00, 1.00000e+00],\n",
       "       [1.00000e+00, 1.00000e+00, 1.00000e+00, 1.00000e+00, 1.00000e+00],\n",
       "       [2.00000e+01, 4.00000e+02, 8.00000e+03, 1.60000e+05, 1.00000e+00],\n",
       "       [2.50000e+01, 6.25000e+02, 1.56250e+04, 3.90625e+05, 1.00000e+00],\n",
       "       [1.10000e+01, 1.21000e+02, 1.33100e+03, 1.46410e+04, 1.00000e+00],\n",
       "       [1.00000e+00, 1.00000e+00, 1.00000e+00, 1.00000e+00, 1.00000e+00]])"
      ]
     },
     "execution_count": 31,
     "metadata": {},
     "output_type": "execute_result"
    }
   ],
   "source": [
    "A4_o = np.hstack((A1, A1 ** 2, A1 ** 3, A1 ** 4, np.ones((8, 1))))\n",
    "A4_o"
   ]
  },
  {
   "cell_type": "code",
   "execution_count": 32,
   "metadata": {},
   "outputs": [
    {
     "data": {
      "text/plain": [
       "array([[ 5.22859739e+00],\n",
       "       [-7.46185847e-01],\n",
       "       [ 3.35161515e-02],\n",
       "       [-4.70310884e-04],\n",
       "       [ 7.43454981e-01]])"
      ]
     },
     "execution_count": 32,
     "metadata": {},
     "output_type": "execute_result"
    }
   ],
   "source": [
    "X4 = np.linalg.inv(A4_o.T.dot(A4_o)).dot(A4_o.T).dot(Y1)\n",
    "X4"
   ]
  },
  {
   "cell_type": "code",
   "execution_count": 35,
   "metadata": {},
   "outputs": [
    {
     "data": {
      "text/plain": [
       "[<matplotlib.lines.Line2D at 0x7f0c760509a0>]"
      ]
     },
     "execution_count": 35,
     "metadata": {},
     "output_type": "execute_result"
    },
    {
     "data": {
      "image/png": "[encoded data removed]",
      "text/plain": [
       "<Figure size 432x288 with 1 Axes>"
      ]
     },
     "metadata": {
      "needs_background": "light"
     },
     "output_type": "display_data"
    }
   ],
   "source": [
    "xx = np.linspace(0, 30, 100)\n",
    "plt.plot(xx, xx * X4[0][0] + (xx ** 2) * X4[1][0] + (xx ** 3) * X4[2][0] + (xx ** 4) * X4[3][0] + X4[4][0], \"r--\")\n",
    "plt.grid()\n",
    "plt.plot(A1, Y1, \"k*\")"
   ]
  },
  {
   "cell_type": "code",
   "execution_count": 36,
   "metadata": {},
   "outputs": [
    {
     "data": {
      "text/plain": [
       "array([[10.05021607],\n",
       "       [ 8.7073426 ],\n",
       "       [ 0.74345498],\n",
       "       [ 5.25891237],\n",
       "       [-0.27946582],\n",
       "       [ 5.06691271],\n",
       "       [ 5.69371473],\n",
       "       [ 5.25891237]])"
      ]
     },
     "execution_count": 36,
     "metadata": {},
     "output_type": "execute_result"
    }
   ],
   "source": [
    "Y4_hat = A4_o.dot(X4)\n",
    "Y4_hat\n"
   ]
  },
  {
   "cell_type": "code",
   "execution_count": 37,
   "metadata": {},
   "outputs": [
    {
     "data": {
      "text/plain": [
       "40.1737756224855"
      ]
     },
     "execution_count": 37,
     "metadata": {},
     "output_type": "execute_result"
    }
   ],
   "source": [
    "mse4 = ((Y4_hat - Y1) ** 2).mean()\n",
    "mse4"
   ]
  },
  {
   "cell_type": "code",
   "execution_count": 38,
   "metadata": {},
   "outputs": [
    {
     "data": {
      "text/plain": [
       "50.90234375"
      ]
     },
     "execution_count": 38,
     "metadata": {},
     "output_type": "execute_result"
    }
   ],
   "source": [
    "vae4 = ((Y1 - Y1.mean()) ** 2).sum() / 8\n",
    "vae4"
   ]
  },
  {
   "cell_type": "code",
   "execution_count": 39,
   "metadata": {},
   "outputs": [
    {
     "data": {
      "text/plain": [
       "0.21076766484872322"
      ]
     },
     "execution_count": 39,
     "metadata": {},
     "output_type": "execute_result"
    }
   ],
   "source": [
    "r4 = 1 - mse4 / vae4\n",
    "r4"
   ]
  },
  {
   "cell_type": "code",
   "execution_count": 40,
   "metadata": {},
   "outputs": [
    {
     "data": {
      "text/plain": [
       "array([[8.000000e+00, 6.400000e+01, 5.120000e+02, 4.096000e+03,\n",
       "        3.276800e+04, 1.000000e+00],\n",
       "       [9.000000e+00, 8.100000e+01, 7.290000e+02, 6.561000e+03,\n",
       "        5.904900e+04, 1.000000e+00],\n",
       "       [0.000000e+00, 0.000000e+00, 0.000000e+00, 0.000000e+00,\n",
       "        0.000000e+00, 1.000000e+00],\n",
       "       [1.000000e+00, 1.000000e+00, 1.000000e+00, 1.000000e+00,\n",
       "        1.000000e+00, 1.000000e+00],\n",
       "       [2.000000e+01, 4.000000e+02, 8.000000e+03, 1.600000e+05,\n",
       "        3.200000e+06, 1.000000e+00],\n",
       "       [2.500000e+01, 6.250000e+02, 1.562500e+04, 3.906250e+05,\n",
       "        9.765625e+06, 1.000000e+00],\n",
       "       [1.100000e+01, 1.210000e+02, 1.331000e+03, 1.464100e+04,\n",
       "        1.610510e+05, 1.000000e+00],\n",
       "       [1.000000e+00, 1.000000e+00, 1.000000e+00, 1.000000e+00,\n",
       "        1.000000e+00, 1.000000e+00]])"
      ]
     },
     "execution_count": 40,
     "metadata": {},
     "output_type": "execute_result"
    }
   ],
   "source": [
    "A5_o = np.hstack((A1, A1 ** 2, A1 ** 3, A1 ** 4, A1 ** 5, np.ones((8, 1))))\n",
    "A5_o"
   ]
  },
  {
   "cell_type": "code",
   "execution_count": 41,
   "metadata": {},
   "outputs": [
    {
     "data": {
      "text/plain": [
       "array([[ 3.73740711e+00],\n",
       "       [-1.80232137e-01],\n",
       "       [-3.89535382e-02],\n",
       "       [ 3.14206524e-03],\n",
       "       [-6.10113857e-05],\n",
       "       [ 1.33289262e+00]])"
      ]
     },
     "execution_count": 41,
     "metadata": {},
     "output_type": "execute_result"
    }
   ],
   "source": [
    "X5 = np.linalg.inv(A5_o.T.dot(A5_o)).dot(A5_o.T).dot(Y1)\n",
    "X5"
   ]
  },
  {
   "cell_type": "code",
   "execution_count": 43,
   "metadata": {},
   "outputs": [
    {
     "data": {
      "text/plain": [
       "[<matplotlib.lines.Line2D at 0x7f0c75f84f10>]"
      ]
     },
     "execution_count": 43,
     "metadata": {},
     "output_type": "execute_result"
    },
    {
     "data": {
      "image/png": "[encoded data removed]",
      "text/plain": [
       "<Figure size 432x288 with 1 Axes>"
      ]
     },
     "metadata": {
      "needs_background": "light"
     },
     "output_type": "display_data"
    }
   ],
   "source": [
    "xx = np.linspace(0, 25, 100)\n",
    "plt.plot(xx, xx * X5[0][0] + (xx ** 2) * X5[1][0] + (xx ** 3) * X5[2][0] + (xx ** 4) * X5[3][0] + (xx ** 5) * X5[4][0] + X5[5][0], \"r--\")\n",
    "plt.grid()\n",
    "plt.plot(A1, Y1, \"k*\")"
   ]
  },
  {
   "cell_type": "code",
   "execution_count": 44,
   "metadata": {},
   "outputs": [
    {
     "data": {
      "text/plain": [
       "array([[10.62375925],\n",
       "       [ 8.98605283],\n",
       "       [ 1.33289262],\n",
       "       [ 4.8541951 ],\n",
       "       [-0.14612151],\n",
       "       [ 5.02887128],\n",
       "       [ 4.96615533],\n",
       "       [ 4.8541951 ]])"
      ]
     },
     "execution_count": 44,
     "metadata": {},
     "output_type": "execute_result"
    }
   ],
   "source": [
    "Y5_hat = A5_o.dot(X5)\n",
    "Y5_hat"
   ]
  },
  {
   "cell_type": "code",
   "execution_count": 45,
   "metadata": {},
   "outputs": [
    {
     "data": {
      "text/plain": [
       "39.969996800533345"
      ]
     },
     "execution_count": 45,
     "metadata": {},
     "output_type": "execute_result"
    }
   ],
   "source": [
    "mse5 = ((Y5_hat - Y1) ** 2).mean()\n",
    "mse5"
   ]
  },
  {
   "cell_type": "code",
   "execution_count": 46,
   "metadata": {},
   "outputs": [
    {
     "data": {
      "text/plain": [
       "50.90234375"
      ]
     },
     "execution_count": 46,
     "metadata": {},
     "output_type": "execute_result"
    }
   ],
   "source": [
    "vae5 = ((Y1 - Y1.mean()) ** 2).sum() / 8\n",
    "vae5"
   ]
  },
  {
   "cell_type": "code",
   "execution_count": 47,
   "metadata": {},
   "outputs": [
    {
     "data": {
      "text/plain": [
       "0.21477099371218356"
      ]
     },
     "execution_count": 47,
     "metadata": {},
     "output_type": "execute_result"
    }
   ],
   "source": [
    "r5 = 1 - mse5 / vae5\n",
    "r5"
   ]
  },
  {
   "cell_type": "code",
   "execution_count": 48,
   "metadata": {},
   "outputs": [
    {
     "data": {
      "text/plain": [
       "array([[8.00000000e+00, 6.40000000e+01, 5.12000000e+02, 4.09600000e+03,\n",
       "        3.27680000e+04, 2.62144000e+05, 1.00000000e+00],\n",
       "       [9.00000000e+00, 8.10000000e+01, 7.29000000e+02, 6.56100000e+03,\n",
       "        5.90490000e+04, 5.31441000e+05, 1.00000000e+00],\n",
       "       [0.00000000e+00, 0.00000000e+00, 0.00000000e+00, 0.00000000e+00,\n",
       "        0.00000000e+00, 0.00000000e+00, 1.00000000e+00],\n",
       "       [1.00000000e+00, 1.00000000e+00, 1.00000000e+00, 1.00000000e+00,\n",
       "        1.00000000e+00, 1.00000000e+00, 1.00000000e+00],\n",
       "       [2.00000000e+01, 4.00000000e+02, 8.00000000e+03, 1.60000000e+05,\n",
       "        3.20000000e+06, 6.40000000e+07, 1.00000000e+00],\n",
       "       [2.50000000e+01, 6.25000000e+02, 1.56250000e+04, 3.90625000e+05,\n",
       "        9.76562500e+06, 2.44140625e+08, 1.00000000e+00],\n",
       "       [1.10000000e+01, 1.21000000e+02, 1.33100000e+03, 1.46410000e+04,\n",
       "        1.61051000e+05, 1.77156100e+06, 1.00000000e+00],\n",
       "       [1.00000000e+00, 1.00000000e+00, 1.00000000e+00, 1.00000000e+00,\n",
       "        1.00000000e+00, 1.00000000e+00, 1.00000000e+00]])"
      ]
     },
     "execution_count": 48,
     "metadata": {},
     "output_type": "execute_result"
    }
   ],
   "source": [
    "A6_o = np.hstack((A1, A1 ** 2, A1 ** 3, A1 ** 4, A1 ** 5, A1 ** 6, np.ones((8, 1))))\n",
    "A6_o"
   ]
  },
  {
   "cell_type": "code",
   "execution_count": 49,
   "metadata": {},
   "outputs": [
    {
     "data": {
      "text/plain": [
       "array([[ 4.41309209e+01],\n",
       "       [-5.07436851e+01],\n",
       "       [ 1.28445807e+01],\n",
       "       [-1.28616698e+00],\n",
       "       [ 5.51976912e-02],\n",
       "       [-8.46690377e-04],\n",
       "       [ 4.99999660e-01]])"
      ]
     },
     "execution_count": 49,
     "metadata": {},
     "output_type": "execute_result"
    }
   ],
   "source": [
    "X6 = np.linalg.inv(A6_o.T.dot(A6_o)).dot(A6_o.T).dot(Y1)\n",
    "X6"
   ]
  },
  {
   "cell_type": "code",
   "execution_count": 50,
   "metadata": {},
   "outputs": [
    {
     "data": {
      "text/plain": [
       "[<matplotlib.lines.Line2D at 0x7f0c75f6a1f0>]"
      ]
     },
     "execution_count": 50,
     "metadata": {},
     "output_type": "execute_result"
    },
    {
     "data": {
      "image/png": "[encoded data removed]",
      "text/plain": [
       "<Figure size 432x288 with 1 Axes>"
      ]
     },
     "metadata": {
      "needs_background": "light"
     },
     "output_type": "display_data"
    }
   ],
   "source": [
    "xx = np.linspace(0, 25, 100)\n",
    "plt.plot(xx, xx * X6[0][0] + (xx ** 2) * X6[1][0] + (xx ** 3) * X6[2][0] + (xx ** 4) * X6[3][0] + (xx ** 5) * X6[4][0] + (xx ** 6) * X6[5][0] + X6[6][0], \"r--\")\n",
    "plt.grid()\n",
    "plt.plot(A1, Y1, \"k*\")"
   ]
  },
  {
   "cell_type": "code",
   "execution_count": null,
   "metadata": {},
   "outputs": [],
   "source": []
  }
 ],
 "metadata": {
  "kernelspec": {
   "display_name": "Python 3.8.2 64-bit",
   "language": "python",
   "name": "python38264bit562c0e97d4464b2a83e5e3108965b493"
  },
  "language_info": {
   "codemirror_mode": {
    "name": "ipython",
    "version": 3
   },
   "file_extension": ".py",
   "mimetype": "text/x-python",
   "name": "python",
   "nbconvert_exporter": "python",
   "pygments_lexer": "ipython3",
   "version": "3.8.2"
  }
 },
 "nbformat": 4,
 "nbformat_minor": 4
}
