{
 "cells": [
  {
   "cell_type": "markdown",
   "metadata": {},
   "source": [
    "Домашние задания (лабораторные работы) выдаются в виде Jupyter-тетрадок. Выполнять их не обязательно, но может быть полезно для закрепления пройденного материала и развития практических навыков.\n",
    "\n",
    "Каждый пункт, который предлагается выполнить в рамках домашнего задания, имеет объявленную \"цену\" в баллах. Максимально возможная сумма – 10 баллов, а с учётом бонусных пунктов – 12 баллов. Выполнять все пункты не обязательно, можно сделать только часть. В большинстве пунктов ожидается, что вы напишете работающий код на Python; иногда надо будет писать комментарии в свободной форме – например, сравнивать несколько подходов к решению одной задачи. Там, где оставлены пустые клетки под ваши ответы, вы можете по своему усмотрению добавлять ещё клетки.\n",
    "\n",
    "\n",
    "* * *\n",
    "\n",
    "Эта лабораторная работа посвящена кластеризации. Мы будем работать с рукописными изображениями цифр, научимся их кластеризовать двумя разными методами (иерархическая кластеризация и алгоритм $K$-means), оценивать качество разбиения и выбирать оптимальное число кластеров, а также визуализировать промежуточные результаты.\n",
    "\n",
    "# 1. Получение данных\n",
    "\n",
    "Данные, с которыми мы будем работать, доступны в библиотеке scikit-learn (модуль называется `sklearn`) в подмодуле `datasets` через функцию, которая называется `load_digits`. Всего имеется 1797 наблюдений, каждое из них представляет чёрно-белую картинку 8 $\\times$ 8 пикселей. Эти картинки – распознанные рукописные цифры от 0 до 9. Образцов написания каждой цифры дано приблизительно поровну, около 180.\n",
    "\n",
    "Для удобства использования данных каждая картинка \"развёрнута\" в строку, так что NumPy-массив, в котором хранятся данные, имеет размерность 2 и величину 1797 $\\times$ 64 (а не, например, размерность 3 и величину 1797 $\\times$ 8 $\\times$ 8). Интенсивность цвета в каждом пикселе кодируется целым числом от 0 до 16.\n",
    "\n",
    "Кроме наблюдений (картинок), известны соответствующие им значения целевой переменной: какую цифру на самом деле изображает каждая картинка. Мы могли бы сразу сформулировать задачу обучения с учителем и предсказывать цифры по картинкам, но для целей этой лабораторной работы мы будем действовать по-другому: сделаем вид, что нам не известны истинные метки классов (т. е. цифры) и даже количество классов, и попробуем сгруппировать данные таким образом, чтобы качество кластеризации оказалось наилучшим, а затем посмотрим, насколько точно полученные кластеры совпадают с группами изображений одинаковых цифр.\n",
    "\n",
    "**(0.5 балла)** Загрузите данные. Добейтесь, чтобы в переменной `X` оказался массив наблюдений, содержащий 1797 $\\times$ 64 числа, а в переменной `y` – массив истинных меток классов, содержащий 1797 чисел.\n",
    "\n",
    "*Указания:*\n",
    "- Как загрузить данные, объяснено в справке к функции `load_digits`.\n",
    "- Размер массива хранится в атрибуте `shape`."
   ]
  },
  {
   "cell_type": "code",
   "execution_count": 81,
   "metadata": {},
   "outputs": [],
   "source": [
    "from sklearn.datasets import load_digits\n",
    "data = load_digits()\n",
    "X = data.data\n",
    "Y = data.target"
   ]
  },
  {
   "cell_type": "markdown",
   "metadata": {},
   "source": [
    "**(1 балл)** Визуализируйте первые десять картинок, расположив их на сетке 3 $\\times$ 4 (в последнем ряду останутся пустые места). Добейтесь, чтобы фон картинок был белым, а изображения цифр – тёмными.\n",
    "\n",
    "*Указания:*\n",
    "- Не забудьте импортировать NumPy и Matplotlib.\n",
    "- Картинки 8 $\\times$ 8 можно либо достать готовыми из объекта, загруженного функцией `load_digits`, либо сделать самостоятельно из строк массива `X`. Во втором случае пользуйтесь методом `reshape`.\n",
    "- Чтобы изображение не было цветным, можно вызвать функцию `plt.gray`, прежде чем начать рисовать.\n",
    "- Располагать картинки на сетке умеет функция `plt.subplot`. Ознакомьтесь со справкой к ней.\n",
    "- По умолчанию число 0 кодирует чёрный цвет, а число 16 – белый цвет. Подумайте, как обратить цвета одной операцией над NumPy-массивом.\n",
    "- Выводить картинку на экран умеет функция `plt.imshow`. Ознакомьтесь со справкой к ней.\n",
    "- Если считаете нужным, можете отключить сглаживание – параметр `interpolation` у функции `plt.imshow`.\n",
    "- Если считаете нужным, можете отключить деления на координатных осях. За это отвечают функции `plt.xticks` и `plt.yticks`."
   ]
  },
  {
   "cell_type": "code",
   "execution_count": 24,
   "metadata": {},
   "outputs": [],
   "source": [
    "from matplotlib import pyplot as plt\n",
    "import numpy as np"
   ]
  },
  {
   "cell_type": "code",
   "execution_count": 25,
   "metadata": {},
   "outputs": [
    {
     "data": {
      "text/plain": [
       "<Figure size 432x288 with 0 Axes>"
      ]
     },
     "metadata": {},
     "output_type": "display_data"
    },
    {
     "data": {
      "image/png": "[encoded data removed]",
      "text/plain": [
       "<Figure size 432x288 with 12 Axes>"
      ]
     },
     "metadata": {
      "needs_background": "light"
     },
     "output_type": "display_data"
    }
   ],
   "source": [
    "imgs = data.images[:10]\n",
    "plt.gray()\n",
    "plt.set_cmap(\"gray_r\")\n",
    "fig, ((ax1, ax2, ax3, ax4), (ax5, ax6, ax7, ax8), (ax9, ax10, ax11, ax12)) = plt.subplots(3, 4)\n",
    "# fig.suptitle('Sharing x per column, y per row')\n",
    "ax1.imshow(imgs[0][:8])\n",
    "ax2.imshow(imgs[1][:8])\n",
    "ax3.imshow(imgs[2][:8])\n",
    "ax4.imshow(imgs[3][:8])\n",
    "ax5.imshow(imgs[4][:8])\n",
    "ax6.imshow(imgs[5][:8])\n",
    "ax7.imshow(imgs[6][:8])\n",
    "ax8.imshow(imgs[7][:8])\n",
    "\n",
    "for ax in fig.get_axes():\n",
    "    ax.label_outer()"
   ]
  },
  {
   "cell_type": "markdown",
   "metadata": {},
   "source": [
    "# 2. Кластеризация и оценка качества\n",
    "\n",
    "Мы будем использовать два популярных алгоритма: иерархическую кластеризацию и метод $K$ средних ($K$-means clustering). Эти и другие алгоритмы кластеризации доступны в библиотеке scikit-learn в подмодуле `cluster`. Иерархическая кластеризация называется `AgglomerativeClustering`, а метод $K$ средних – `KMeans`.\n",
    "\n",
    "Интерфейс у большинства алгоритмов в scikit-learn простой и единообразный:\n",
    "- Чтобы инициализировать модель, нужно создать экземпляр соответствующего класса со всеми необходимыми параметрами. Например, у кластеризаций единственный обязательный параметр называется `n_clusters`, это количество кластеров, которое мы хотим получить на выходе.\n",
    "- Инициализированную модель можно обучить, вызвав метод `fit`.\n",
    "- С помощью обученной модели можно предсказывать, вызывая метод `predict`.\n",
    "\n",
    "Как видно, этот интерфейс хорош только для задач обучения с учителем, в которых чётко разделены фазы обучения модели и предсказания с её помощью. У кластеризаций зато есть метод `fit_predict`, который разбивает входную выборку на кластеры и сразу же возвращает результаты разбиения.\n",
    "\n",
    "**(0.5 балла)** Используя каждый из двух методов, иерархическую кластеризацию и $K$ средних, получите разбиение массива `X` на 10 кластеров.\n",
    "\n",
    "*Указания:*\n",
    "- Оба раза должен получиться массив из 1797 чисел – номеров кластеров.\n",
    "- `KMeans` делает несколько (по умолчанию 10) запусков со случайными центрами и из полученных разбиений выводит лучшее в терминах среднего внутрикластерного расстояния. Чтобы улучшить качество предсказаний, можно увеличить число запусков, например, до 100. Это параметр `n_init` в конструкторе."
   ]
  },
  {
   "cell_type": "code",
   "execution_count": 102,
   "metadata": {},
   "outputs": [
    {
     "data": {
      "text/plain": [
       "array([7, 9, 4, ..., 4, 1, 4])"
      ]
     },
     "execution_count": 102,
     "metadata": {},
     "output_type": "execute_result"
    }
   ],
   "source": [
    "from sklearn.cluster import AgglomerativeClustering\n",
    "model = AgglomerativeClustering(n_clusters=10)\n",
    "model.fit_predict(X)"
   ]
  },
  {
   "cell_type": "code",
   "execution_count": 101,
   "metadata": {},
   "outputs": [],
   "source": [
    "from sklearn.cluster import k_means\n",
    "kernels, labels, length = k_means(X, n_clusters=10, n_init=100)"
   ]
  },
  {
   "cell_type": "markdown",
   "metadata": {},
   "source": [
    "**(1 балл)** Визуализируйте центры кластеров, полученных каждым из двух способов. Это опять должны быть картинки на сетке 3 $\\times$ 4 с белым фоном и тёмными контурами. Прокомментируйте: какой из двух алгоритмов даёт центры кластеров, больше похожие на типичные начертания цифр?\n",
    "\n",
    "*Указания:*\n",
    "- Центр кластера – это среднее по всем наблюдениям, входящим в кластер, т. е. по какому-то набору строк из `X`.\n",
    "- Чтобы выбрать наблюдения, входящие в кластер номер `i`, используйте индексацию по булевозначной маске. Саму маску можно получить из массива предсказанных номеров кластеров и числа `i` оператором `==`.\n",
    "- Усреднять NumPy-массив вдоль какой-нибудь из осей умеет функция `np.mean`. Ознакомьтесь со справкой к ней. Нам нужно усреднение по строкам."
   ]
  },
  {
   "cell_type": "markdown",
   "metadata": {},
   "source": [
    "        --- Agglomerative clustering"
   ]
  },
  {
   "cell_type": "code",
   "execution_count": 28,
   "metadata": {},
   "outputs": [
    {
     "data": {
      "text/plain": [
       "<Figure size 432x288 with 0 Axes>"
      ]
     },
     "metadata": {},
     "output_type": "display_data"
    },
    {
     "data": {
      "image/png": "[encoded data removed]",
      "text/plain": [
       "<Figure size 432x288 with 12 Axes>"
      ]
     },
     "metadata": {
      "needs_background": "light"
     },
     "output_type": "display_data"
    }
   ],
   "source": [
    "label_0_mask = model.labels_==0\n",
    "label_1_mask = model.labels_==1\n",
    "label_2_mask = model.labels_==2\n",
    "label_3_mask = model.labels_==3\n",
    "label_4_mask = model.labels_==4\n",
    "label_5_mask = model.labels_==5\n",
    "label_6_mask = model.labels_==6\n",
    "label_7_mask = model.labels_==7\n",
    "\n",
    "digits_label_0 = X[label_0_mask]\n",
    "digits_label_1 = X[label_1_mask]\n",
    "digits_label_2 = X[label_2_mask]\n",
    "digits_label_3 = X[label_3_mask]\n",
    "digits_label_4 = X[label_4_mask]\n",
    "digits_label_5 = X[label_5_mask]\n",
    "digits_label_6 = X[label_6_mask]\n",
    "digits_label_7 = X[label_7_mask]\n",
    "\n",
    "plt.gray()\n",
    "plt.set_cmap(\"gray_r\")\n",
    "fig, ((ax1, ax2, ax3, ax4), (ax5, ax6, ax7, ax8), (ax9, ax10, ax11, ax12)) = plt.subplots(3, 4)\n",
    "\n",
    "ax1.imshow(np.mean(list(map(lambda x: np.split(x, 8), digits_label_0)), axis=0))\n",
    "ax2.imshow(np.mean(list(map(lambda x: np.split(x, 8), digits_label_1)), axis=0))\n",
    "ax3.imshow(np.mean(list(map(lambda x: np.split(x, 8), digits_label_2)), axis=0))\n",
    "ax4.imshow(np.mean(list(map(lambda x: np.split(x, 8), digits_label_3)), axis=0))\n",
    "ax5.imshow(np.mean(list(map(lambda x: np.split(x, 8), digits_label_4)), axis=0))\n",
    "ax6.imshow(np.mean(list(map(lambda x: np.split(x, 8), digits_label_5)), axis=0))\n",
    "ax7.imshow(np.mean(list(map(lambda x: np.split(x, 8), digits_label_6)), axis=0))\n",
    "ax8.imshow(np.mean(list(map(lambda x: np.split(x, 8), digits_label_7)), axis=0))\n",
    "\n",
    "for ax in fig.get_axes():\n",
    "    ax.label_outer()\n"
   ]
  },
  {
   "cell_type": "markdown",
   "metadata": {},
   "source": [
    "        --- K-means"
   ]
  },
  {
   "cell_type": "code",
   "execution_count": 151,
   "metadata": {},
   "outputs": [
    {
     "data": {
      "text/plain": [
       "<Figure size 432x288 with 0 Axes>"
      ]
     },
     "metadata": {},
     "output_type": "display_data"
    },
    {
     "data": {
      "image/png": "[encoded data removed]",
      "text/plain": [
       "<Figure size 432x288 with 12 Axes>"
      ]
     },
     "metadata": {
      "needs_background": "light"
     },
     "output_type": "display_data"
    }
   ],
   "source": [
    "label_0_mask_k = labels==0\n",
    "label_1_mask_k = labels==1\n",
    "label_2_mask_k = labels==2\n",
    "label_3_mask_k = labels==3\n",
    "label_4_mask_k = labels==4\n",
    "label_5_mask_k = labels==5\n",
    "label_6_mask_k = labels==6\n",
    "label_7_mask_k = labels==7\n",
    "label_8_mask_k = labels==8\n",
    "\n",
    "digits_label_0_k = X[label_0_mask_k]\n",
    "digits_label_1_k = X[label_1_mask_k]\n",
    "digits_label_2_k = X[label_2_mask_k]\n",
    "digits_label_3_k = X[label_3_mask_k]\n",
    "digits_label_4_k = X[label_4_mask_k]\n",
    "digits_label_5_k = X[label_5_mask_k]\n",
    "digits_label_6_k = X[label_6_mask_k]\n",
    "digits_label_7_k = X[label_7_mask_k]\n",
    "digits_label_8_k = X[label_8_mask_k]\n",
    "\n",
    "plt.gray()\n",
    "plt.set_cmap(\"gray_r\")\n",
    "fig, ((ax1, ax2, ax3, ax4), (ax5, ax6, ax7, ax8), (ax9, ax10, ax11, ax12)) = plt.subplots(3, 4)\n",
    "\n",
    "ax1.imshow(np.mean(list(map(lambda x: np.split(x, 8), digits_label_0_k)), axis=0))\n",
    "ax2.imshow(np.mean(list(map(lambda x: np.split(x, 8), digits_label_1_k)), axis=0))\n",
    "ax3.imshow(np.mean(list(map(lambda x: np.split(x, 8), digits_label_2_k)), axis=0))\n",
    "ax4.imshow(np.mean(list(map(lambda x: np.split(x, 8), digits_label_3_k)), axis=0))\n",
    "ax5.imshow(np.mean(list(map(lambda x: np.split(x, 8), digits_label_4_k)), axis=0))\n",
    "ax6.imshow(np.mean(list(map(lambda x: np.split(x, 8), digits_label_5_k)), axis=0))\n",
    "ax7.imshow(np.mean(list(map(lambda x: np.split(x, 8), digits_label_6_k)), axis=0))\n",
    "ax8.imshow(np.mean(list(map(lambda x: np.split(x, 8), digits_label_7_k)), axis=0))\n",
    "\n",
    "for ax in fig.get_axes():\n",
    "    ax.label_outer()"
   ]
  },
  {
   "cell_type": "markdown",
   "metadata": {},
   "source": [
    "    --- оба алгоритма показывают практически одинаковые усреднённые результаты "
   ]
  },
  {
   "cell_type": "markdown",
   "metadata": {},
   "source": [
    "В ситуации, когда истинное число кластеров неизвестно, подбирают оптимальное число кластеров. При этом учитывают две величины: внутрикластерное расстояние (чем меньше, тем лучше) и межкластерное расстояние (чем больше, тем лучше). Так как две эти величины не достигают оптимума одновременно, обычно оптимизируют какой-нибудь функционал от них. Один популярный функционал называется \"силуэт\" (silhouette). Вот как он вычисляется.\n",
    "\n",
    "Пусть $X$ – множество наблюдений, $M \\subset X$ – один из кластеров, на которые оно разбито в результате кластеризации, $\\rho$ – метрика на $X$. Выберем какое-нибудь одно наблюдение $x \\in M$. Обозначим $a(x)$ среднее расстояние от $x$ до точек $x'$ из того же кластера:\n",
    "$$\n",
    "a(x) = \\frac{1}{|M|} \\sum_{x' \\in M} \\rho(x,\\, x')\n",
    "$$\n",
    "\n",
    "Обозначим $b(x)$ минимум средних расстояний от $x$ до точек $x''$ из какого-нибудь другого кластера $N$:\n",
    "$$\n",
    "b(x) = \\min_{N \\ne M} \\frac{1}{|N|} \\sum_{x'' \\in N} \\rho(x,\\, x'')\n",
    "$$\n",
    "\n",
    "Силуэт – это разность межкластерного и внутрикластерного расстояний, нормированная до отрезка $[-1,\\, 1]$ и усреднённая по всем наблюдениям:\n",
    "$$\n",
    "\\frac{1}{|X|} \\sum_{x \\in X} \\frac{b(x) - a(x)}{\\max(a(x),\\, b(x))}\n",
    "$$\n",
    "\n",
    "В scikit-learn силуэт считается функцией `silhouette_score` из подмодуля `metrics`. На вход нужно передать массив наблюдений и результат кластеризации.\n",
    "\n",
    "**(1.5 балла)** Для числа $K$ от 2 до 20 включительно получите разбиение массива `X` на $K$ кластеров каждым из двух методов. Посчитайте силуэт. Посчитанные значения силуэта сохраните в переменную и визуализируйте в виде графика в координатах: число $K$ – значение силуэта. При каком числе кластеров достигается максимум силуэта?\n",
    "\n",
    "*Указания:*\n",
    "- Не забудьте, что функция `range` не захватывает правый конец диапазона.\n",
    "- Под значения силуэта можно завести два списка: один для иерархической кластеризации, другой для $K$ средних.\n",
    "- Рисовать графики умеет функция `plt.plot`. Ознакомьтесь со справкой к ней.\n",
    "- На одной картинке можно разместить несколько графиков, это просто несколько последовательных вызовов `plt.plot`.\n",
    "- Чтобы добавить легенду (подписи к графикам), можно воспользоваться функцией `plt.legend`. Местоположение легенды контролируется параметром `loc`.\n",
    "- Чтобы подписать координатные оси, можно воспользоваться функциями `plt.xlabel` и `plt.ylabel`."
   ]
  },
  {
   "cell_type": "code",
   "execution_count": 45,
   "metadata": {},
   "outputs": [
    {
     "data": {
      "text/plain": [
       "[array([1, 0, 0, ..., 0, 0, 0], dtype=int32),\n",
       " array([1, 0, 0, ..., 0, 2, 2], dtype=int32),\n",
       " array([3, 2, 2, ..., 2, 1, 1], dtype=int32),\n",
       " array([3, 4, 4, ..., 4, 0, 4], dtype=int32),\n",
       " array([5, 1, 1, ..., 1, 3, 3], dtype=int32),\n",
       " array([2, 3, 3, ..., 3, 0, 0], dtype=int32),\n",
       " array([5, 4, 4, ..., 4, 0, 0], dtype=int32),\n",
       " array([2, 4, 4, ..., 4, 8, 8], dtype=int32),\n",
       " array([5, 1, 1, ..., 1, 6, 6], dtype=int32),\n",
       " array([2, 7, 9, ..., 9, 1, 9], dtype=int32),\n",
       " array([ 4,  2, 10, ..., 10,  0, 10], dtype=int32),\n",
       " array([ 9, 10,  8, ...,  8, 12,  8], dtype=int32),\n",
       " array([ 5, 11,  0, ...,  0,  2,  0], dtype=int32),\n",
       " array([4, 6, 5, ..., 5, 2, 5], dtype=int32),\n",
       " array([ 1, 15,  2, ...,  2, 11,  2], dtype=int32),\n",
       " array([ 0, 13,  1, ...,  1,  6,  1], dtype=int32),\n",
       " array([ 0, 14, 13, ..., 13, 15,  2], dtype=int32),\n",
       " array([ 1,  3, 13, ..., 13,  0, 13], dtype=int32),\n",
       " array([ 8,  4,  9, ...,  4, 16, 16], dtype=int32)]"
      ]
     },
     "execution_count": 45,
     "metadata": {},
     "output_type": "execute_result"
    }
   ],
   "source": [
    "from sklearn.cluster import k_means\n",
    "from sklearn.metrics import silhouette_score\n",
    "labelss_k = list(map(lambda x: k_means(X, n_clusters=x, n_init=20)[1], range(2, 21)))\n",
    "labelss_k\n"
   ]
  },
  {
   "cell_type": "code",
   "execution_count": 46,
   "metadata": {},
   "outputs": [
    {
     "data": {
      "text/plain": [
       "10"
      ]
     },
     "execution_count": 46,
     "metadata": {},
     "output_type": "execute_result"
    }
   ],
   "source": [
    "silhouettes_k = list(map(lambda x: silhouette_score(X, x), labelss_k))\n",
    "K_max_k = silhouettes_k.index(max(silhouettes_k)) + 3\n",
    "K_max_k"
   ]
  },
  {
   "cell_type": "code",
   "execution_count": 38,
   "metadata": {},
   "outputs": [
    {
     "data": {
      "text/plain": [
       "[array([1, 0, 0, ..., 0, 0, 0]),\n",
       " array([0, 2, 2, ..., 2, 1, 2]),\n",
       " array([3, 2, 2, ..., 2, 0, 2]),\n",
       " array([3, 2, 2, ..., 2, 4, 2]),\n",
       " array([3, 2, 2, ..., 2, 4, 2]),\n",
       " array([3, 0, 0, ..., 0, 4, 0]),\n",
       " array([7, 0, 0, ..., 0, 4, 0]),\n",
       " array([7, 0, 0, ..., 0, 4, 0]),\n",
       " array([7, 9, 4, ..., 4, 1, 4]),\n",
       " array([7, 9, 4, ..., 4, 0, 4]),\n",
       " array([ 7,  9,  1, ...,  1, 11,  1]),\n",
       " array([ 7,  9,  1, ...,  1, 11,  1]),\n",
       " array([ 7,  9,  1, ...,  1, 11,  1]),\n",
       " array([ 7,  9,  0, ...,  0, 11,  0]),\n",
       " array([ 7,  9,  6, ..., 15, 11,  6]),\n",
       " array([ 7,  9,  2, ..., 15, 11,  2]),\n",
       " array([ 7,  4,  2, ..., 15, 11,  2]),\n",
       " array([ 7,  4,  0, ..., 15,  5,  0]),\n",
       " array([ 7,  4, 19, ..., 15,  5,  8])]"
      ]
     },
     "execution_count": 38,
     "metadata": {},
     "output_type": "execute_result"
    }
   ],
   "source": [
    "labelss_AC = list(map(lambda x: AgglomerativeClustering(n_clusters=x).fit_predict(X), range(2, 21)))\n",
    "labelss_AC\n"
   ]
  },
  {
   "cell_type": "code",
   "execution_count": 40,
   "metadata": {},
   "outputs": [
    {
     "data": {
      "text/plain": [
       "10"
      ]
     },
     "execution_count": 40,
     "metadata": {},
     "output_type": "execute_result"
    }
   ],
   "source": [
    "silhouettes_AC = list(map(lambda x: silhouette_score(X, x), labelss_AC))\n",
    "K_max_AC = silhouettes_AC.index(max(silhouettes_AC)) + 3\n",
    "K_max_AC"
   ]
  },
  {
   "cell_type": "code",
   "execution_count": 78,
   "metadata": {},
   "outputs": [
    {
     "data": {
      "image/png": "[encoded data removed]",
      "text/plain": [
       "<Figure size 432x288 with 1 Axes>"
      ]
     },
     "metadata": {
      "needs_background": "light"
     },
     "output_type": "display_data"
    }
   ],
   "source": [
    "plt.scatter(silhouettes_AC, range(0, len(silhouettes_AC)), label=\"Agglomerative clustering\")\n",
    "plt.scatter(silhouettes_k, range(0, len(silhouettes_k)), label=\"K-means clustering\")\n",
    "plt.legend(loc='center left', shadow=True, fontsize='x-large')\n",
    "plt.grid()"
   ]
  },
  {
   "cell_type": "markdown",
   "metadata": {},
   "source": [
    "Когда известно \"правильное\" (в каком-нибудь смысле) разбиение на кластеры, результат кластеризации можно сравнить с ним, используя такие меры, как однородность (homogeneity), полнота (completeness) и их среднее гармоническое – $V$-мера. Определения этих величин довольно громоздкие и основаны на понятии [энтропии распределения вероятностей](https://ru.wikipedia.org/wiki/Информационная_энтропия); подробности излагаются в [этой статье](http://aclweb.org/anthology/D/D07/D07-1043.pdf). На практике достаточно знать, что однородность, полнота и $V$-мера заключены между нулём и единицей – чем больше, тем лучше.\n",
    "\n",
    "Так как мы знаем, какую цифру на самом деле изображает каждая картинка (это массив `y`), мы можем использовать однородность, полноту и $V$-меру для оценки качества кластеризации. Функции для вычисления этих величин доступны в scikit-learn, в подмодуле `metrics`, под названиями `homogeneity_score`, `completeness_score`, `v_measure_score`. Как вариант, можно использовать функцию `homogeneity_completeness_v_measure`, которая возвращает сразу тройку чисел.\n",
    "\n",
    "**(1 балл)** Повторите предыдущее задание, используя $V$-меру вместо силуэта. При каком числе кластеров достигается максимум $V$-меры?"
   ]
  },
  {
   "cell_type": "code",
   "execution_count": 93,
   "metadata": {},
   "outputs": [
    {
     "data": {
      "text/plain": [
       "10"
      ]
     },
     "execution_count": 93,
     "metadata": {},
     "output_type": "execute_result"
    }
   ],
   "source": [
    "from sklearn.metrics import v_measure_score\n",
    "v_measure_score_ACs = list(map(lambda y: v_measure_score(Y, y), labelss_AC))\n",
    "K_max_AC_v_measure = v_measure_score_ACs.index(max(v_measure_score_ACs))\n",
    "K_max_AC_v_measure"
   ]
  },
  {
   "cell_type": "code",
   "execution_count": 95,
   "metadata": {},
   "outputs": [
    {
     "data": {
      "text/plain": [
       "13"
      ]
     },
     "execution_count": 95,
     "metadata": {},
     "output_type": "execute_result"
    }
   ],
   "source": [
    "v_measure_score_ks = list(map(lambda y: v_measure_score(Y, y), labelss_k))\n",
    "K_max_k_v_measure = v_measure_score_ks.index(max(v_measure_score_ks))\n",
    "K_max_k_v_measure"
   ]
  },
  {
   "cell_type": "markdown",
   "metadata": {},
   "source": [
    "# 3. Снижение размерности признакового пространства\n",
    "\n",
    "Иногда, особенно когда признаков много и не все они одинаково информативные, бывает полезно снизить размерность признакового пространства, то есть вместо $d$ исходных признаков перейти к рассмотрению $d' \\ll d$ новых признаков. Данные были представлены матрицей $n$ наблюдений $\\times$ $d$ исходных признаков, а теперь будут представлены матрицей $n$ наблюдений $\\times$ $d'$ новых признаков.\n",
    "\n",
    "Есть два популярных подхода к снижению размерности:\n",
    "- отобрать (select) новые признаки из числа имеющихся;\n",
    "- извлечь (extract) новые признаки, преобразуя старые, например, сделать $d'$ различных линейных комбинаций столбцов исходной матрицы $n \\times d$.\n",
    "\n",
    "Одним из широко используемых методов извлечения признаков является сингулярное разложение матрицы (singular value decomposition, SVD). Этот метод позволяет сконструировать любое число $d' \\le d$ новых признаков таким образом, что они будут, в определённом смысле, максимально информативными. Математические детали сейчас не важны; познакомиться с ними можно, например, [здесь](https://www.coursera.org/learn/mathematics-and-python/lecture/L9bCV/razlozhieniia-matrits-v-proizviedieniie-singhuliarnoie-razlozhieniie)\n",
    "(по-русски) или [здесь](https://www.youtube.com/watch?v=P5mlg91as1c) (по-английски).\n",
    "\n",
    "В scikit-learn есть несколько реализаций сингулярного разложения. Мы будем использовать класс `TruncatedSVD` из подмодуля `decomposition`. В конструктор этого класса достаточно передать один параметр `n_components` – желаемое число новых признаков. Метод `fit_transform` принимает матрицу и возвращает новую матрицу с таким же количеством строк, как прежде, и количеством столбцов, равным числу новых признаков.\n",
    "\n",
    "*<u>Замечание:</u>* Сингулярное разложение матрицы $M$ обычно пишут в виде $M = U \\Sigma V^{*}$, где $U$, $\\Sigma$ и $V$ – некие матрицы с хорошими свойствами. То, что возвращает алгоритм `TruncatedSVD`, – это сколько-то (сколько мы хотим получить) первых столбцов матрицы $U$.\n",
    "\n",
    "**(1.5 балла)** Выполните сингулярное разложение матрицы `X`, оставляя 2, 5, 10, 20 признаков. В каждом случае выполните иерархическую и $K$-means кластеризацию преобразованных данных (число кластеров примите равным 10). Посчитайте значения силуэта и $V$-меры. Удалось ли при каком-нибудь $d'$ получить силуэт и / или $V$-меру лучше, чем на исходных данных?"
   ]
  },
  {
   "cell_type": "code",
   "execution_count": 104,
   "metadata": {},
   "outputs": [],
   "source": [
    "from sklearn.decomposition import TruncatedSVD\n",
    "X_2_components = TruncatedSVD(n_components=2).fit_transform(X)\n",
    "X_5_components = TruncatedSVD(n_components=5).fit_transform(X)\n",
    "X_10_components = TruncatedSVD(n_components=10).fit_transform(X)\n",
    "X_25_components = TruncatedSVD(n_components=25).fit_transform(X)\n",
    "\n",
    "kernels_X_2, labels_X_2, length_X_2 = k_means(X_2_components, n_clusters=10, n_init=100)\n",
    "kernels_X_5, labels_X_5, length_X_5 = k_means(X_5_components, n_clusters=10, n_init=100)\n",
    "kernels_X_10, labels_X_10, length_X_10 = k_means(X_10_components, n_clusters=10, n_init=100)\n",
    "kernels_X_25, labels_X_25, length_X_25 = k_means(X_25_components, n_clusters=10, n_init=100)\n",
    "\n",
    "model_X_2 = AgglomerativeClustering(n_clusters=10).fit_predict(X_2_components)\n",
    "model_X_5 = AgglomerativeClustering(n_clusters=10).fit_predict(X_5_components)\n",
    "model_X_10 = AgglomerativeClustering(n_clusters=10).fit_predict(X_10_components)\n",
    "model_X_25 = AgglomerativeClustering(n_clusters=10).fit_predict(X_25_components)\n"
   ]
  },
  {
   "cell_type": "code",
   "execution_count": 106,
   "metadata": {},
   "outputs": [
    {
     "name": "stdout",
     "output_type": "stream",
     "text": [
      "0.006427401394175737\n",
      "0.16846545768363508\n",
      "0.18046580573988827\n",
      "0.18220583434788593\n"
     ]
    }
   ],
   "source": [
    "print(silhouette_score(X, labels_X_2))\n",
    "print(silhouette_score(X, labels_X_5))\n",
    "print(silhouette_score(X, labels_X_10))\n",
    "print(silhouette_score(X, labels_X_25))\n"
   ]
  },
  {
   "cell_type": "code",
   "execution_count": 108,
   "metadata": {},
   "outputs": [
    {
     "name": "stdout",
     "output_type": "stream",
     "text": [
      "0.3328877336450936\n",
      "0.6756036446423491\n",
      "0.8259753348813222\n",
      "0.8638646794281901\n"
     ]
    }
   ],
   "source": [
    "print(v_measure_score(Y, model_X_2))\n",
    "print(v_measure_score(Y, model_X_5))\n",
    "print(v_measure_score(Y, model_X_10))\n",
    "print(v_measure_score(Y, model_X_25))\n"
   ]
  },
  {
   "cell_type": "markdown",
   "metadata": {},
   "source": [
    "Другая популярная техника снижения размерности, которая особенно хорошо подходит для работы с картинками, – это алгоритм t-distributed stochastic neighbor embeddings, сокращённо tSNE. В отличие от сингулярного разложения, это преобразование нелинейное. Его основная идея – отобразить точки из пространства размерности $d$ в пространство размерности 2 или 3 (обычно 2, то есть на плоскость) таким образом, чтобы как можно точнее сохранить расстояния. Математические детали есть, например, [здесь](https://en.wikipedia.org/wiki/T-distributed_stochastic_neighbor_embedding), но они нетривиальны.\n",
    "\n",
    "В библиотеке scikit-learn реализацией tSNE является класс `TSNE` в подмодуле `manifold`. В конструктор можно передать параметр `n_components`, а можно и не передавать: по умолчанию он равен 2. Метод `fit_transform` работает аналогично тому, как и у `TruncatedSVD`.\n",
    "\n",
    "**(0.5 балла)** Выполните tSNE-преобразование матрицы `X`, оставив 2 признака. Визуализируйте данные, преобразованные таким образом, в виде точечной диаграммы: первый признак вдоль горизонтальной оси, второй признак вдоль вертикальной оси. Подсветите разными цветами группы точек, соответствующих разным цифрам.\n",
    "\n",
    "*Указания:*\n",
    "- Точечную диаграмму умеет рисовать функция `plt.scatter`. Ознакомьтесь со справкой к ней.\n",
    "- За цвета точек отвечает параметр `c` у функции `plt.scatter`. Передать в него надо истинные метки классов."
   ]
  },
  {
   "cell_type": "code",
   "execution_count": null,
   "metadata": {
    "collapsed": true
   },
   "outputs": [],
   "source": []
  },
  {
   "cell_type": "markdown",
   "metadata": {},
   "source": [
    "**(1 балл)** Для tSNE-преобразованных данных с 2 признаками выполните иерархическую и $K$-means кластеризацию (число кластеров примите равным 10). Посчитайте значения силуэта и $V$-меры. Удалось ли получить силуэт и / или $V$-меру лучше, чем на исходных данных?"
   ]
  },
  {
   "cell_type": "code",
   "execution_count": null,
   "metadata": {
    "collapsed": true
   },
   "outputs": [],
   "source": []
  },
  {
   "cell_type": "markdown",
   "metadata": {},
   "source": [
    "**(0.5 балла)** Для самого лучшего разбиения, которое вам удалось получить (на ваше усмотрение, лучшего в терминах силуэта или $V$-меры), опять визуализируйте картинками центры кластеров. Удалось ли добиться, чтобы каждый кластер соответствовал какой-нибудь одной цифре?"
   ]
  },
  {
   "cell_type": "code",
   "execution_count": null,
   "metadata": {
    "collapsed": true
   },
   "outputs": [],
   "source": []
  },
  {
   "cell_type": "markdown",
   "metadata": {},
   "source": [
    "# 4. Итоги, бонус\n",
    "\n",
    "**(1 балл)** Напишите в свободной форме, какие выводы вы сделали из выполненной работы. Ответьте, как минимум, на следующие два вопроса:\n",
    "- Какой из двух методов даёт более осмысленные кластеры – иерархическая кластеризация или алгоритм $K$ средних? Зависит ли это от настроек каждого алгоритма? От критериев оценивания качества?\n",
    "- Удаётся ли улучшить качество кластеризации, снижая размерность признакового пространства?"
   ]
  },
  {
   "cell_type": "code",
   "execution_count": null,
   "metadata": {
    "collapsed": true
   },
   "outputs": [],
   "source": []
  },
  {
   "cell_type": "markdown",
   "metadata": {},
   "source": [
    "**(Бонусные 2 балла)** Скачайте датасет [MNIST Handwritten Digits](http://yann.lecun.com/exdb/mnist). Как сделать это с помощью scikit-learn, написано [здесь](http://scikit-learn.org/stable/datasets/index.html#downloading-datasets-from-the-mldata-org-repository). MNIST Handwritten Digits – это 70 тысяч распознанных рукописных изображений цифр, каждое размером 28 $\\times$ 28 пикселей. Попробуйте прокластеризовать этот датасет и добиться как можно лучших значений силуэта и $V$-меры."
   ]
  },
  {
   "cell_type": "code",
   "execution_count": null,
   "metadata": {
    "collapsed": true
   },
   "outputs": [],
   "source": []
  }
 ],
 "metadata": {
  "kernelspec": {
   "display_name": "Python 3",
   "language": "python",
   "name": "python3"
  },
  "language_info": {
   "codemirror_mode": {
    "name": "ipython",
    "version": 3
   },
   "file_extension": ".py",
   "mimetype": "text/x-python",
   "name": "python",
   "nbconvert_exporter": "python",
   "pygments_lexer": "ipython3",
   "version": "3.8.2"
  }
 },
 "nbformat": 4,
 "nbformat_minor": 2
}
